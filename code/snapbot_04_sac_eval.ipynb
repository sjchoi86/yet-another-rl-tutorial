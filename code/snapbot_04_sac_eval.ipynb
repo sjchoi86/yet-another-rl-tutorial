{
 "cells": [
  {
   "cell_type": "markdown",
   "id": "0258bb84",
   "metadata": {},
   "source": [
    "### Evaluate `SAC` results on `Snapbot`"
   ]
  },
  {
   "cell_type": "code",
   "execution_count": 1,
   "id": "4c6176a8",
   "metadata": {},
   "outputs": [
    {
     "name": "stdout",
     "output_type": "stream",
     "text": [
      "MuJoCo version:[2.3.6]\n"
     ]
    }
   ],
   "source": [
    "import mujoco,torch,os\n",
    "import numpy as np\n",
    "import matplotlib.pyplot as plt\n",
    "from mujoco_parser import MuJoCoParserClass\n",
    "from snapbot_env import SnapbotMarkovDecisionProcessClass\n",
    "from sac import ReplayBufferClass,ActorClass,CriticClass,get_target\n",
    "np.set_printoptions(precision=2,suppress=True,linewidth=100)\n",
    "plt.rc('xtick',labelsize=6); plt.rc('ytick',labelsize=6)\n",
    "%config InlineBackend.figure_format = 'retina'\n",
    "%matplotlib inline\n",
    "print (\"MuJoCo version:[%s]\"%(mujoco.__version__))"
   ]
  },
  {
   "cell_type": "markdown",
   "id": "ba7f5935",
   "metadata": {},
   "source": [
    "### Initialize `Snapbot` environment"
   ]
  },
  {
   "cell_type": "code",
   "execution_count": 2,
   "id": "deddf7e5",
   "metadata": {},
   "outputs": [
    {
     "name": "stdout",
     "output_type": "stream",
     "text": [
      "Ready.\n"
     ]
    }
   ],
   "source": [
    "def np2torch(x_np,device): return torch.tensor(x_np,dtype=torch.float32,device=device)\n",
    "def torch2np(x_torch): return x_torch.detach().cpu().numpy()\n",
    "print (\"Ready.\")"
   ]
  },
  {
   "cell_type": "code",
   "execution_count": 3,
   "id": "8b13fa0a",
   "metadata": {},
   "outputs": [
    {
     "name": "stdout",
     "output_type": "stream",
     "text": [
      "[Snapbot] Instantiated\n",
      "   [info] dt:[0.0200] HZ:[50], env-HZ:[500], mujoco_nstep:[10], state_dim:[35], o_dim:[70], a_dim:[8]\n",
      "   [history] total_sec:[0.20]sec, n:[10], intv_sec:[0.10]sec, intv_tick:[5]\n",
      "   [history] ticks:[0 5]\n"
     ]
    }
   ],
   "source": [
    "xml_path = '../asset/snapbot/scene_snapbot.xml'\n",
    "env = MuJoCoParserClass(name='Snapbot',rel_xml_path=xml_path,VERBOSE=False)\n",
    "mdp = SnapbotMarkovDecisionProcessClass(env,HZ=50,history_total_sec=0.2,history_intv_sec=0.1,VERBOSE=True)"
   ]
  },
  {
   "cell_type": "markdown",
   "id": "ea38d383",
   "metadata": {},
   "source": [
    "### Check pth files"
   ]
  },
  {
   "cell_type": "code",
   "execution_count": 4,
   "id": "6a84ea10",
   "metadata": {},
   "outputs": [
    {
     "name": "stdout",
     "output_type": "stream",
     "text": [
      "We have [21] files:\n",
      "['episode_0.pth', 'episode_100.pth', 'episode_150.pth', 'episode_200.pth', 'episode_250.pth', 'episode_300.pth', 'episode_350.pth', 'episode_400.pth', 'episode_450.pth', 'episode_50.pth', 'episode_500.pth', 'episode_550.pth', 'episode_600.pth', 'episode_650.pth', 'episode_700.pth', 'episode_750.pth', 'episode_800.pth', 'episode_850.pth', 'episode_900.pth', 'episode_950.pth', 'episode_999.pth']\n"
     ]
    }
   ],
   "source": [
    "dir_path = '../result/weights/sac_%s/'%(mdp.name.lower())\n",
    "filenames = sorted(os.listdir(path=dir_path))\n",
    "print (\"We have [%d] files:\"%(len(filenames)))\n",
    "print (filenames)"
   ]
  },
  {
   "cell_type": "markdown",
   "id": "656400f2",
   "metadata": {},
   "source": [
    "### Load"
   ]
  },
  {
   "cell_type": "code",
   "execution_count": 9,
   "id": "f6789082",
   "metadata": {},
   "outputs": [
    {
     "name": "stdout",
     "output_type": "stream",
     "text": [
      "We will use [../result/weights/sac_snapbot/episode_999.pth].\n"
     ]
    }
   ],
   "source": [
    "epi_idx  = 999\n",
    "pth_path = '../result/weights/sac_%s/episode_%d.pth'%(mdp.name.lower(),epi_idx)\n",
    "if os.path.exists(pth_path): print (\"We will use [%s].\"%(pth_path))\n",
    "else: print (\"ERROR:[%s] DOES NOT EXIST!\"%(pth_path))"
   ]
  },
  {
   "cell_type": "markdown",
   "id": "0490edd5",
   "metadata": {},
   "source": [
    "### Loop"
   ]
  },
  {
   "cell_type": "code",
   "execution_count": 10,
   "id": "1c0713f6",
   "metadata": {},
   "outputs": [
    {
     "name": "stdout",
     "output_type": "stream",
     "text": [
      "Press [space] to start.\n",
      "Pressed ESC\n",
      "Quitting.\n",
      "[Eval] time:[30.1]sec reward:[1152.045] x_diff:[23.532]m epi_len:[1502/3000]\n"
     ]
    }
   ],
   "source": [
    "# Simulator\n",
    "max_epi_sec  = 60.0 # maximum episode length in second\n",
    "max_epi_tick = int(max_epi_sec*mdp.HZ) # maximum episode length in tick\n",
    "# Actor\n",
    "device       = 'cpu' # cpu / mps / cuda\n",
    "max_torque   = 2.0\n",
    "actor = ActorClass(\n",
    "    obs_dim=mdp.o_dim,h_dims=[256,256],out_dim=mdp.a_dim,max_out=max_torque,device=device).to(device)\n",
    "# Load pth\n",
    "actor.load_state_dict(torch.load(pth_path,map_location=device))\n",
    "# Run\n",
    "mdp.init_viewer() # init viewer\n",
    "s = mdp.reset() # reset state\n",
    "mdp.viewer_pause() # pause simulator\n",
    "print (\"Press [space] to start.\")\n",
    "reward_total = 0.0\n",
    "for tick in range(max_epi_tick):\n",
    "    a,_ = actor(np2torch(s,device=device),SAMPLE_ACTION=False) # get action\n",
    "    s_prime,reward,done,info = mdp.step(torch2np(a),max_time=max_epi_sec) # step\n",
    "    if (tick % 2) == 0:\n",
    "        mdp.render(TRACK_TORSO=True,PLOT_WORLD_COORD=True,PLOT_TORSO_COORD=True,\n",
    "                   PLOT_SENSOR=True,PLOT_CONTACT=True,PLOT_TIME=True)\n",
    "    reward_total += reward\n",
    "    s = s_prime\n",
    "    if not mdp.is_viewer_alive(): break\n",
    "mdp.close_viewer() # close viewer\n",
    "x_diff = mdp.env.get_p_body('torso')[0]\n",
    "print (\"[Eval] time:[%.1f]sec reward:[%.3f] x_diff:[%.3f]m epi_len:[%d/%d]\"%\n",
    "       (mdp.get_sim_time(),reward_total,x_diff,tick,max_epi_tick))"
   ]
  },
  {
   "cell_type": "code",
   "execution_count": null,
   "id": "667094e9",
   "metadata": {},
   "outputs": [],
   "source": []
  }
 ],
 "metadata": {
  "kernelspec": {
   "display_name": "Python 3 (ipykernel)",
   "language": "python",
   "name": "python3"
  },
  "language_info": {
   "codemirror_mode": {
    "name": "ipython",
    "version": 3
   },
   "file_extension": ".py",
   "mimetype": "text/x-python",
   "name": "python",
   "nbconvert_exporter": "python",
   "pygments_lexer": "ipython3",
   "version": "3.9.16"
  }
 },
 "nbformat": 4,
 "nbformat_minor": 5
}
