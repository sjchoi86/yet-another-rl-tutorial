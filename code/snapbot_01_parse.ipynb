{
 "cells": [
  {
   "cell_type": "markdown",
   "id": "55d4044c",
   "metadata": {},
   "source": [
    "### Parse `Snapbot`"
   ]
  },
  {
   "cell_type": "code",
   "execution_count": 1,
   "id": "aed4d163",
   "metadata": {},
   "outputs": [
    {
     "name": "stdout",
     "output_type": "stream",
     "text": [
      "MuJoCo version:[2.3.6]\n"
     ]
    }
   ],
   "source": [
    "import mujoco\n",
    "import numpy as np\n",
    "import matplotlib.pyplot as plt\n",
    "from mujoco_parser import MuJoCoParserClass\n",
    "np.set_printoptions(precision=2,suppress=True,linewidth=100)\n",
    "plt.rc('xtick',labelsize=6); plt.rc('ytick',labelsize=6)\n",
    "%config InlineBackend.figure_format = 'retina'\n",
    "%matplotlib inline\n",
    "print (\"MuJoCo version:[%s]\"%(mujoco.__version__))"
   ]
  },
  {
   "cell_type": "markdown",
   "id": "44b23d68",
   "metadata": {},
   "source": [
    "### Parse `scene_snapbot.xml`"
   ]
  },
  {
   "cell_type": "code",
   "execution_count": 2,
   "id": "e5591237",
   "metadata": {
    "scrolled": true
   },
   "outputs": [
    {
     "name": "stdout",
     "output_type": "stream",
     "text": [
      "dt:[0.0020] HZ:[500]\n",
      "n_dof (=nv):[24]\n",
      "n_geom:[24]\n",
      "geom_names:['floor', 'body', 'camera_module_1', 'camera_module_2', 'leg_module_1_1', 'leg_module_1_2', 'leg_module_1_3', 'leg_module_1_4', 'leg_module_1_4bar', 'leg_module_2_1', 'leg_module_2_2', 'leg_module_2_3', 'leg_module_2_4', 'leg_module_2_4bar', 'leg_module_4_1', 'leg_module_4_2', 'leg_module_4_3', 'leg_module_4_4', 'leg_module_4_4bar', 'leg_module_5_1', 'leg_module_5_2', 'leg_module_5_3', 'leg_module_5_4', 'leg_module_5_4bar']\n",
      "n_body:[24]\n",
      "body_names:['world', 'torso', 'Camera_module_1', 'Camera_module_2', 'Leg_module_1_1', 'Leg_module_1_2', 'Leg_module_1_3', 'Leg_module_1_4', 'Leg_module_1_4bar', 'Leg_module_2_1', 'Leg_module_2_2', 'Leg_module_2_3', 'Leg_module_2_4', 'Leg_module_2_4bar', 'Leg_module_4_1', 'Leg_module_4_2', 'Leg_module_4_3', 'Leg_module_4_4', 'Leg_module_4_4bar', 'Leg_module_5_1', 'Leg_module_5_2', 'Leg_module_5_3', 'Leg_module_5_4', 'Leg_module_5_4bar']\n",
      "n_joint:[19]\n",
      "joint_names:['free', 'camera_1', 'camera_2', 'leg_1_2', 'leg_1_3', 'leg_1_4', 'leg_1_4bar', 'leg_2_2', 'leg_2_3', 'leg_2_4', 'leg_2_4bar', 'leg_4_2', 'leg_4_3', 'leg_4_4', 'leg_4_4bar', 'leg_5_2', 'leg_5_3', 'leg_5_4', 'leg_5_4bar']\n",
      "joint_types:[0 3 3 3 3 3 3 3 3 3 3 3 3 3 3 3 3 3 3]\n",
      "joint_ranges:\n",
      "[[ 0.    0.  ]\n",
      " [ 0.    0.  ]\n",
      " [-3.14  0.  ]\n",
      " [-0.9   0.9 ]\n",
      " [-0.7   0.7 ]\n",
      " [ 0.    0.  ]\n",
      " [ 0.    0.  ]\n",
      " [-0.9   0.9 ]\n",
      " [-0.7   0.7 ]\n",
      " [ 0.    0.  ]\n",
      " [ 0.    0.  ]\n",
      " [-0.9   0.9 ]\n",
      " [-0.7   0.7 ]\n",
      " [ 0.    0.  ]\n",
      " [ 0.    0.  ]\n",
      " [-0.9   0.9 ]\n",
      " [-0.7   0.7 ]\n",
      " [ 0.    0.  ]\n",
      " [ 0.    0.  ]]\n",
      "n_rev_joint:[18]\n",
      "rev_joint_idxs:[ 1  2  3  4  5  6  7  8  9 10 11 12 13 14 15 16 17 18]\n",
      "rev_joint_names:['camera_1', 'camera_2', 'leg_1_2', 'leg_1_3', 'leg_1_4', 'leg_1_4bar', 'leg_2_2', 'leg_2_3', 'leg_2_4', 'leg_2_4bar', 'leg_4_2', 'leg_4_3', 'leg_4_4', 'leg_4_4bar', 'leg_5_2', 'leg_5_3', 'leg_5_4', 'leg_5_4bar']\n",
      "rev_joint_mins:[ 0.   -3.14 -0.9  -0.7   0.    0.   -0.9  -0.7   0.    0.   -0.9  -0.7   0.    0.   -0.9  -0.7\n",
      "  0.    0.  ]\n",
      "rev_joint_maxs:[0.  0.  0.9 0.7 0.  0.  0.9 0.7 0.  0.  0.9 0.7 0.  0.  0.9 0.7 0.  0. ]\n",
      "rev_joint_ranges:[0.   3.14 1.8  1.4  0.   0.   1.8  1.4  0.   0.   1.8  1.4  0.   0.   1.8  1.4  0.   0.  ]\n",
      "n_pri_joint:[0]\n",
      "pri_joint_idxs:[]\n",
      "pri_joint_names:[]\n",
      "pri_joint_mins:[]\n",
      "pri_joint_maxs:[]\n",
      "pri_joint_ranges:[]\n",
      "n_ctrl:[8]\n",
      "ctrl_names:['actuator_1_2', 'actuator_1_3', 'actuator_2_2', 'actuator_2_3', 'actuator_4_2', 'actuator_4_3', 'actuator_5_2', 'actuator_5_3']\n",
      "ctrl_joint_idxs:[9, 10, 13, 14, 17, 18, 21, 22]\n",
      "ctrl_joint_names:['leg_1_2', 'leg_1_3', 'leg_2_2', 'leg_2_3', 'leg_4_2', 'leg_4_3', 'leg_5_2', 'leg_5_3']\n",
      "ctrl_qvel_idxs:[8, 9, 12, 13, 16, 17, 20, 21]\n",
      "ctrl_ranges:\n",
      "[[-5.  5.]\n",
      " [-5.  5.]\n",
      " [-5.  5.]\n",
      " [-5.  5.]\n",
      " [-5.  5.]\n",
      " [-5.  5.]\n",
      " [-5.  5.]\n",
      " [-5.  5.]]\n",
      "n_sensor:[8]\n",
      "sensor_names:['touchsensor_1_4', 'touchsensor_2_4', 'touchsensor_4_4', 'touchsensor_5_4', 'touchsensor_1_2', 'touchsensor_2_2', 'touchsensor_4_2', 'touchsensor_5_2']\n",
      "n_site:[8]\n",
      "site_names:['sensorsurf_1_2', 'sensorsurf_1_4', 'sensorsurf_2_2', 'sensorsurf_2_4', 'sensorsurf_4_2', 'sensorsurf_4_4', 'sensorsurf_5_2', 'sensorsurf_5_4']\n"
     ]
    }
   ],
   "source": [
    "xml_path = '../asset/snapbot/scene_snapbot.xml'\n",
    "env = MuJoCoParserClass(name='Snapbot',rel_xml_path=xml_path,VERBOSE=True)"
   ]
  },
  {
   "cell_type": "markdown",
   "id": "6639b685",
   "metadata": {},
   "source": [
    "### Loop"
   ]
  },
  {
   "cell_type": "code",
   "execution_count": 8,
   "id": "c552f7a8",
   "metadata": {},
   "outputs": [
    {
     "name": "stdout",
     "output_type": "stream",
     "text": [
      "Pressed ESC\n",
      "Quitting.\n"
     ]
    }
   ],
   "source": [
    "env.init_viewer(viewer_title='Snapbot',viewer_width=1200,viewer_height=800,\n",
    "                viewer_hide_menus=True)\n",
    "env.update_viewer(azimuth=152,distance=1.5,elevation=-30,lookat=[0.0,0.0,0.],\n",
    "                  VIS_TRANSPARENT=False)\n",
    "env.reset()\n",
    "while env.is_viewer_alive():\n",
    "    # Step\n",
    "    env.step()\n",
    "    if env.loop_every(HZ=10):\n",
    "        # Plot configuration\n",
    "        PLOT_WORLD_FRAME = False\n",
    "        PLOT_BODY_FRAME  = False\n",
    "        PLOT_REV_JOINT   = True\n",
    "        PLOT_CONTACT     = True\n",
    "        # Plot world frame\n",
    "        if PLOT_WORLD_FRAME:\n",
    "            env.plot_T(p=np.zeros(3),R=np.eye(3,3),PLOT_AXIS=True,axis_len=0.5,axis_width=0.005)\n",
    "            sim_info = 'tick:[%d] time:[%.2f]sec'%(env.tick,env.get_sim_time())\n",
    "            env.plot_T(p=np.array([0,0,0.5]),R=np.eye(3,3),PLOT_AXIS=False,label=sim_info)\n",
    "        # Plot body frames\n",
    "        if PLOT_BODY_FRAME:\n",
    "            for body_name in env.body_names:\n",
    "                p,R = env.get_pR_body(body_name=body_name)\n",
    "                env.plot_T(p=p,R=R,PLOT_AXIS=True,axis_len=0.1,axis_width=0.005)\n",
    "        # Plot revolute joints with arrow\n",
    "        if PLOT_REV_JOINT:\n",
    "            for rev_joint_idx,rev_joint_name in zip(env.rev_joint_idxs,env.rev_joint_names):\n",
    "                axis_joint = env.model.jnt_axis[rev_joint_idx]\n",
    "                p_joint,R_joint = env.get_pR_joint(joint_name=rev_joint_name)\n",
    "                axis_world = R_joint@axis_joint\n",
    "                axis_rgba = np.append(np.eye(3)[:,np.argmax(axis_joint)],0.5)\n",
    "                axis_len,axis_r = 0.05,0.005\n",
    "                env.plot_arrow_fr2to(\n",
    "                    p_fr=p_joint,p_to=p_joint+axis_len*axis_world,\n",
    "                    r=axis_r,rgba=axis_rgba)\n",
    "        # Plot contact information\n",
    "        if PLOT_CONTACT:\n",
    "            env.plot_contact_info(h_arrow=0.3,rgba_arrow=[1,0,1,1],PRINT_CONTACT_BODY=False)\n",
    "        # Render\n",
    "        env.render()\n",
    "# Close viewer\n",
    "env.close_viewer()"
   ]
  },
  {
   "cell_type": "code",
   "execution_count": 5,
   "id": "5f5a54b2",
   "metadata": {},
   "outputs": [],
   "source": [
    "env.open_interactive_viewer()"
   ]
  },
  {
   "cell_type": "code",
   "execution_count": null,
   "id": "d1eed716",
   "metadata": {},
   "outputs": [],
   "source": []
  }
 ],
 "metadata": {
  "kernelspec": {
   "display_name": "Python 3 (ipykernel)",
   "language": "python",
   "name": "python3"
  },
  "language_info": {
   "codemirror_mode": {
    "name": "ipython",
    "version": 3
   },
   "file_extension": ".py",
   "mimetype": "text/x-python",
   "name": "python",
   "nbconvert_exporter": "python",
   "pygments_lexer": "ipython3",
   "version": "3.9.16"
  }
 },
 "nbformat": 4,
 "nbformat_minor": 5
}
